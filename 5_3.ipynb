{
  "nbformat": 4,
  "nbformat_minor": 0,
  "metadata": {
    "colab": {
      "provenance": [],
      "authorship_tag": "ABX9TyPTwWtHQujXygUirrlz4tYf",
      "include_colab_link": true
    },
    "kernelspec": {
      "name": "python3",
      "display_name": "Python 3"
    },
    "language_info": {
      "name": "python"
    }
  },
  "cells": [
    {
      "cell_type": "markdown",
      "metadata": {
        "id": "view-in-github",
        "colab_type": "text"
      },
      "source": [
        "<a href=\"https://colab.research.google.com/github/IamHeeJ/ML_Ex/blob/main/5_3.ipynb\" target=\"_parent\"><img src=\"https://colab.research.google.com/assets/colab-badge.svg\" alt=\"Open In Colab\"/></a>"
      ]
    },
    {
      "cell_type": "markdown",
      "source": [
        "#5-3 트리의 앙상블\n",
        "\n"
      ],
      "metadata": {
        "id": "xYfb97pxFYrY"
      }
    },
    {
      "cell_type": "markdown",
      "source": [
        "**정형 데이터, 비정형 데이터**\n",
        "\n",
        "- 정형 데이터 : CSV 파일 처럼 구조를 가지고 있는 데이터\n",
        "- 비정형 데이터 : 텍스트 데이터, 사진, 디지털 음악 등 구조를 가지고있지 않은 데이터 -> 6장\n",
        "\n",
        "##앙상블 학습(ensemble learning)\n",
        "정형 데이터를 다루는 데 가장 뛰어난 성과\n",
        "\n",
        "대다수의 앙상블 학습 알고리즘은 결정 트리를 기반으로 함\n",
        "\n",
        "##랜덤 포레스트(random forest)\n",
        "앙상블 학습 중 가장 유명하고 안정적인 성능 제공\n",
        "\n",
        "여러개의 결정 트리를 랜덤하게 만들고 각 결정 트리의 예측을 사용해 최종 예측 출력\n",
        "1. 훈련하기 위한 데이터를 랜덤하게 만듬 (중복 가능)\n",
        "2. 부트스트랩 샘플로 결정 트리를 훈련\n",
        "3. 정해진 수 만큼 위 과정을 반복"
      ],
      "metadata": {
        "id": "A4SKIW3bKzTK"
      }
    },
    {
      "cell_type": "code",
      "source": [
        "import numpy as np\n",
        "import pandas as pd\n",
        "from sklearn.model_selection import train_test_split\n",
        "\n",
        "wine = pd.read_csv('https://bit.ly/wine_csv_data')\n",
        "\n",
        "data = wine[['alcohol', 'sugar', 'pH']].to_numpy()\n",
        "target = wine['class'].to_numpy()\n",
        "\n",
        "train_input, test_input, train_target, test_target = train_test_split(data, target, test_size=0.2, random_state=42)"
      ],
      "metadata": {
        "id": "4ZjHo8yYHEB6"
      },
      "execution_count": null,
      "outputs": []
    },
    {
      "cell_type": "code",
      "source": [
        "from sklearn.model_selection import cross_validate\n",
        "from sklearn.ensemble import RandomForestClassifier\n",
        "\n",
        "rf = RandomForestClassifier(n_jobs=-1, random_state=42)\n",
        "scores = cross_validate(rf, train_input, train_target, return_train_score=True, n_jobs=-1)\n",
        "\n",
        "print(np.mean(scores['train_score']), np.mean(scores['test_score']))"
      ],
      "metadata": {
        "colab": {
          "base_uri": "https://localhost:8080/"
        },
        "id": "5aOG69F9HEMd",
        "outputId": "aa5a30b3-dfcf-4330-a0d5-7296d92450d0"
      },
      "execution_count": null,
      "outputs": [
        {
          "output_type": "stream",
          "name": "stdout",
          "text": [
            "0.9973541965122431 0.8905151032797809\n"
          ]
        }
      ]
    },
    {
      "cell_type": "markdown",
      "source": [
        "이 예제는 매우 간단하고 특성도 적어서 그리드 서치를 사용하더라도 하이퍼 튜닝의 결과가 크게 나아지지 않음"
      ],
      "metadata": {
        "id": "46FSFz7kNj7H"
      }
    },
    {
      "cell_type": "code",
      "source": [
        "rf.fit(train_input, train_target)\n",
        "print(rf.feature_importances_)"
      ],
      "metadata": {
        "colab": {
          "base_uri": "https://localhost:8080/"
        },
        "id": "p-ONcmMaHGkP",
        "outputId": "50a99a88-f566-4cda-ba64-6a13d994cd53"
      },
      "execution_count": null,
      "outputs": [
        {
          "output_type": "stream",
          "name": "stdout",
          "text": [
            "[0.23167441 0.50039841 0.26792718]\n"
          ]
        }
      ]
    },
    {
      "cell_type": "markdown",
      "source": [
        "**OOB특성**\n",
        "\n",
        "부트스트랩 샘플에 포함되지 않는 샘플"
      ],
      "metadata": {
        "id": "JMwT5yHgNxyS"
      }
    },
    {
      "cell_type": "code",
      "source": [
        "rf = RandomForestClassifier(oob_score=True, n_jobs=-1, random_state=42)\n",
        "\n",
        "rf.fit(train_input, train_target)\n",
        "print(rf.oob_score_)"
      ],
      "metadata": {
        "colab": {
          "base_uri": "https://localhost:8080/"
        },
        "id": "M1HX998WHGyF",
        "outputId": "d922b5fc-33a2-4f81-926d-6b6200be2e99"
      },
      "execution_count": null,
      "outputs": [
        {
          "output_type": "stream",
          "name": "stdout",
          "text": [
            "0.8934000384837406\n"
          ]
        }
      ]
    },
    {
      "cell_type": "markdown",
      "source": [
        "##엑스트라 트리\n",
        "\n",
        "랜덤 포레스트와 비슷하게 동작\n",
        "  - 부트스트랩 샘플을 사용하지 않고 각 결정 트리"
      ],
      "metadata": {
        "id": "8ewAnY6cHIGT"
      }
    },
    {
      "cell_type": "code",
      "source": [
        "from sklearn.ensemble import ExtraTreesClassifier\n",
        "\n",
        "et = ExtraTreesClassifier(n_jobs=-1, random_state=42)\n",
        "scores = cross_validate(et, train_input, train_target, return_train_score=True, n_jobs=-1)\n",
        "\n",
        "print(np.mean(scores['train_score']), np.mean(scores['test_score']))"
      ],
      "metadata": {
        "colab": {
          "base_uri": "https://localhost:8080/"
        },
        "id": "AzJZe0veHJje",
        "outputId": "d2c70e9e-46b3-47cb-9d4a-15f335f6331e"
      },
      "execution_count": null,
      "outputs": [
        {
          "output_type": "stream",
          "name": "stdout",
          "text": [
            "0.9974503966084433 0.8887848893166506\n"
          ]
        }
      ]
    },
    {
      "cell_type": "markdown",
      "source": [
        "랜던 포레스트와 비슷한 결과를 얻음\n",
        "보통 엑스트라 트리가 무작위성이 더 크기 때문에 더 많은 하.."
      ],
      "metadata": {
        "id": "S29UImOhOjem"
      }
    },
    {
      "cell_type": "code",
      "source": [
        "et.fit(train_input, train_target)\n",
        "print(et.feature_importances_)"
      ],
      "metadata": {
        "colab": {
          "base_uri": "https://localhost:8080/"
        },
        "id": "-DLOaCkyHKlX",
        "outputId": "1c493228-1a81-417d-9e39-a5c158a3d7d7"
      },
      "execution_count": null,
      "outputs": [
        {
          "output_type": "stream",
          "name": "stdout",
          "text": [
            "[0.20183568 0.52242907 0.27573525]\n"
          ]
        }
      ]
    },
    {
      "cell_type": "markdown",
      "source": [
        "##Bagging vs Boosting\n",
        "위 두 방법은 배깅(bagging) 방법임\n",
        "\n",
        "여러 개의 모델을 랜덤하게 만들고 각 모델의 결과를 종합하여 결과를 출력\n",
        "\n",
        "아래 방법들은 부스팅(boosting) 방식임\n",
        "\n",
        "모델을 순차적으로 여러개 만들되 이전 모델을 보완한 새로운 모델을 만들고 최종적으로 생성된 모든 모델을 하나로 합침"
      ],
      "metadata": {
        "id": "3w2UEr3sHYmv"
      }
    },
    {
      "cell_type": "markdown",
      "source": [
        "##그레디언트 부스팅\n",
        "\n",
        "깊이가 얕은 결정 트리를 사용하여 이전 트리의 오차를 보완하는 방식\n",
        "\n",
        "과대적합에 강하고 일반적으로 높은 일반화 성능을 기대할 수 있음\n",
        "\n",
        "그레디언트란 이름이 붙은 이유는 경사 하강법을 사용하여 앙상블에 추가하기 때문\n",
        "  - 분류에서는 로지스틱 손실 함수 사용\n",
        "  - 회귀에선 평균 제곱 오차 함수 사용\n",
        "\n",
        "학습률 매개변수로 속도 조절\n",
        "\n",
        "예측에 사용될 데이터가 많은 경우 사용"
      ],
      "metadata": {
        "id": "AMOe0vsXPUq4"
      }
    },
    {
      "cell_type": "code",
      "source": [
        "from sklearn.ensemble import GradientBoostingClassifier\n",
        "\n",
        "gb = GradientBoostingClassifier(random_state=42)\n",
        "scores = cross_validate(gb, train_input, train_target, return_train_score=True, n_jobs=-1)\n",
        "\n",
        "print(np.mean(scores['train_score']), np.mean(scores['test_score']))"
      ],
      "metadata": {
        "colab": {
          "base_uri": "https://localhost:8080/"
        },
        "id": "d7EisMXQHaGc",
        "outputId": "3176d186-b05f-46ff-bf47-5788d699a4a5"
      },
      "execution_count": null,
      "outputs": [
        {
          "output_type": "stream",
          "name": "stdout",
          "text": [
            "0.8881086892152563 0.8720430147331015\n"
          ]
        }
      ]
    },
    {
      "cell_type": "code",
      "source": [
        "gb = GradientBoostingClassifier(n_estimators=500, learning_rate=0.2, random_state=42)\n",
        "scores = cross_validate(gb, train_input, train_target, return_train_score=True, n_jobs=-1)\n",
        "\n",
        "print(np.mean(scores['train_score']), np.mean(scores['test_score']))"
      ],
      "metadata": {
        "colab": {
          "base_uri": "https://localhost:8080/"
        },
        "id": "RYfwcxMgHbQG",
        "outputId": "2721a752-0d0d-4ca9-9710-5db4753a3e46"
      },
      "execution_count": null,
      "outputs": [
        {
          "output_type": "stream",
          "name": "stdout",
          "text": [
            "0.9464595437171814 0.8780082549788999\n"
          ]
        }
      ]
    },
    {
      "cell_type": "code",
      "source": [
        "gb.fit(train_input, train_target)\n",
        "print(gb.feature_importances_)"
      ],
      "metadata": {
        "colab": {
          "base_uri": "https://localhost:8080/"
        },
        "id": "pYZky4KNHdiZ",
        "outputId": "5c3bbc7e-d811-4735-a3bd-67204d767226"
      },
      "execution_count": null,
      "outputs": [
        {
          "output_type": "stream",
          "name": "stdout",
          "text": [
            "[0.15872278 0.68010884 0.16116839]\n"
          ]
        }
      ]
    },
    {
      "cell_type": "markdown",
      "source": [
        "##히스토그램 기반 그레디언트 부스팅\n",
        "\n",
        "- 정형 데이터를 다루는 머신러닝 알고리즘 중 가장 인기 많음\n",
        "- 입력 특성을 256구간으로 나누고 하나를 뗴어놓고 누락된 값을 위해 사용\n",
        "- 노드를 분할할 때 최적의 분할을 매우 빠르게 찾을 수 있음\n",
        "- 누락된 특성이 있더라도 이를 따로 전처리할 필요 x\n",
        "\n",
        "- 히스토그램 : 데이터를 일정한 구간으로 쪼개서 막대 그래프로 표현"
      ],
      "metadata": {
        "id": "n-t4d74YMcZR"
      }
    },
    {
      "cell_type": "code",
      "source": [
        "# 사이킷런 1.0 버전 아래에서는 다음 라인의 주석을 해제하고 실행하세요.\n",
        "# from sklearn.experimental import enable_hist_gradient_boosting\n",
        "from sklearn.ensemble import HistGradientBoostingClassifier\n",
        "\n",
        "hgb = HistGradientBoostingClassifier(random_state=42)\n",
        "scores = cross_validate(hgb, train_input, train_target, return_train_score=True, n_jobs=-1)\n",
        "\n",
        "print(np.mean(scores['train_score']), np.mean(scores['test_score']))"
      ],
      "metadata": {
        "colab": {
          "base_uri": "https://localhost:8080/"
        },
        "id": "rcMA4XK6NQRZ",
        "outputId": "cf55b16a-bc13-4759-fa52-21541ac0bfb4"
      },
      "execution_count": null,
      "outputs": [
        {
          "output_type": "stream",
          "name": "stdout",
          "text": [
            "0.9321723946453317 0.8801241948619236\n"
          ]
        }
      ]
    },
    {
      "cell_type": "markdown",
      "source": [
        "과대 적합 억제하면서 그레디언트 부스팅보다 높은 성능을 제공\n",
        "\n",
        "- permutation_importances()\n",
        "  - 특성을 하나씩 랜덤하게 섞어서 모델의 성능 변화를 관찰하여 어떤 특성이 중요한지 계산"
      ],
      "metadata": {
        "id": "sCeHnBA4RrXe"
      }
    },
    {
      "cell_type": "code",
      "source": [
        "from sklearn.inspection import permutation_importance\n",
        "\n",
        "hgb.fit(train_input, train_target)\n",
        "result = permutation_importance(hgb, train_input, train_target, n_repeats=10,\n",
        "                                random_state=42, n_jobs=-1)\n",
        "print(result.importances_mean)"
      ],
      "metadata": {
        "colab": {
          "base_uri": "https://localhost:8080/"
        },
        "id": "_RG-vzgPNRnv",
        "outputId": "b0b9db72-6659-4a32-d513-e9cef82c9566"
      },
      "execution_count": null,
      "outputs": [
        {
          "output_type": "stream",
          "name": "stdout",
          "text": [
            "[0.08876275 0.23438522 0.08027708]\n"
          ]
        }
      ]
    },
    {
      "cell_type": "code",
      "source": [
        "result = permutation_importance(hgb, test_input, test_target, n_repeats=10,\n",
        "                                random_state=42, n_jobs=-1)\n",
        "print(result.importances_mean)"
      ],
      "metadata": {
        "colab": {
          "base_uri": "https://localhost:8080/"
        },
        "id": "OaoMK3pTNSvp",
        "outputId": "da75d6a6-7e93-490a-ca42-687e0af6366a"
      },
      "execution_count": null,
      "outputs": [
        {
          "output_type": "stream",
          "name": "stdout",
          "text": [
            "[0.05969231 0.20238462 0.049     ]\n"
          ]
        }
      ]
    },
    {
      "cell_type": "code",
      "source": [
        "hgb.score(test_input, test_target)"
      ],
      "metadata": {
        "colab": {
          "base_uri": "https://localhost:8080/"
        },
        "id": "oovF6pAwNTrS",
        "outputId": "63467af8-a954-49e9-c587-3f9ddfc713cc"
      },
      "execution_count": null,
      "outputs": [
        {
          "output_type": "execute_result",
          "data": {
            "text/plain": [
              "0.8723076923076923"
            ]
          },
          "metadata": {},
          "execution_count": 15
        }
      ]
    },
    {
      "cell_type": "markdown",
      "source": [
        "###XGBoost\n",
        "사이킷런의 cross_validate()함수 사용 가능"
      ],
      "metadata": {
        "id": "GqVfKgNsNUR1"
      }
    },
    {
      "cell_type": "code",
      "source": [
        "from xgboost import XGBClassifier\n",
        "\n",
        "xgb = XGBClassifier(tree_method='hist', random_state=42)\n",
        "scores = cross_validate(xgb, train_input, train_target, return_train_score=True, n_jobs=-1)\n",
        "\n",
        "print(np.mean(scores['train_score']), np.mean(scores['test_score']))"
      ],
      "metadata": {
        "id": "qZ9VEK7UNT0j"
      },
      "execution_count": null,
      "outputs": []
    },
    {
      "cell_type": "markdown",
      "source": [
        "###LightGBM\n"
      ],
      "metadata": {
        "id": "ZMwf0W--NaN_"
      }
    },
    {
      "cell_type": "code",
      "source": [
        "from lightgbm import LGBMClassifier\n",
        "\n",
        "lgb = LGBMClassifier(random_state=42)\n",
        "scores = cross_validate(lgb, train_input, train_target, return_train_score=True, n_jobs=-1)\n",
        "\n",
        "print(np.mean(scores['train_score']), np.mean(scores['test_score']))"
      ],
      "metadata": {
        "id": "S7OafjJ4NchG"
      },
      "execution_count": null,
      "outputs": []
    }
  ]
}