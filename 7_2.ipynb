{
  "nbformat": 4,
  "nbformat_minor": 0,
  "metadata": {
    "colab": {
      "provenance": [],
      "gpuType": "T4",
      "authorship_tag": "ABX9TyPykSsV2vDhM9/Zy0p+VHJE",
      "include_colab_link": true
    },
    "kernelspec": {
      "name": "python3",
      "display_name": "Python 3"
    },
    "language_info": {
      "name": "python"
    },
    "accelerator": "GPU"
  },
  "cells": [
    {
      "cell_type": "markdown",
      "metadata": {
        "id": "view-in-github",
        "colab_type": "text"
      },
      "source": [
        "<a href=\"https://colab.research.google.com/github/IamHeeJ/ML_Ex/blob/main/7_2.ipynb\" target=\"_parent\"><img src=\"https://colab.research.google.com/assets/colab-badge.svg\" alt=\"Open In Colab\"/></a>"
      ]
    },
    {
      "cell_type": "markdown",
      "source": [
        "#7-2. 심층 신경망"
      ],
      "metadata": {
        "id": "OuQvJjLi-T94"
      }
    },
    {
      "cell_type": "markdown",
      "source": [
        "##2개의 층"
      ],
      "metadata": {
        "id": "rv-rO642OVTx"
      }
    },
    {
      "cell_type": "code",
      "execution_count": null,
      "metadata": {
        "id": "QUdTLVyh8bgL"
      },
      "outputs": [],
      "source": [
        "# 실행마다 동일한 결과를 얻기 위해 케라스에 랜덤 시드를 사용하고 텐서플로 연산을 결정적으로 만듬\n",
        "import tensorflow as tf\n",
        "\n",
        "tf.keras.utils.set_random_seed(42)\n",
        "tf.config.experimental.enable_op_determinism()"
      ]
    },
    {
      "cell_type": "markdown",
      "source": [
        "데이터 준비"
      ],
      "metadata": {
        "id": "uWoOTF_zOGKZ"
      }
    },
    {
      "cell_type": "code",
      "source": [
        "from tensorflow import keras\n",
        "\n",
        "(train_input, train_target), (test_input, test_target) = keras.datasets.fashion_mnist.load_data()"
      ],
      "metadata": {
        "colab": {
          "base_uri": "https://localhost:8080/"
        },
        "id": "HGIDQNv5-xGD",
        "outputId": "78c3b60b-e76d-4c3b-dfa9-bc537b68985f"
      },
      "execution_count": null,
      "outputs": [
        {
          "output_type": "stream",
          "name": "stdout",
          "text": [
            "Downloading data from https://storage.googleapis.com/tensorflow/tf-keras-datasets/train-labels-idx1-ubyte.gz\n",
            "29515/29515 [==============================] - 0s 0us/step\n",
            "Downloading data from https://storage.googleapis.com/tensorflow/tf-keras-datasets/train-images-idx3-ubyte.gz\n",
            "26421880/26421880 [==============================] - 0s 0us/step\n",
            "Downloading data from https://storage.googleapis.com/tensorflow/tf-keras-datasets/t10k-labels-idx1-ubyte.gz\n",
            "5148/5148 [==============================] - 0s 0us/step\n",
            "Downloading data from https://storage.googleapis.com/tensorflow/tf-keras-datasets/t10k-images-idx3-ubyte.gz\n",
            "4422102/4422102 [==============================] - 0s 0us/step\n"
          ]
        }
      ]
    },
    {
      "cell_type": "code",
      "source": [
        "from sklearn.model_selection import train_test_split\n",
        "\n",
        "train_scaled = train_input / 255.0\n",
        "train_scaled = train_scaled.reshape(-1, 28*28)  # 28*28 그림을 1차원배열로 변환\n",
        "\n",
        "train_scaled, val_scaled, train_target, val_target = train_test_split(\n",
        "    train_scaled, train_target, test_size=0.2, random_state=42)"
      ],
      "metadata": {
        "id": "dxHsgGk1-0ko"
      },
      "execution_count": null,
      "outputs": []
    },
    {
      "cell_type": "markdown",
      "source": [
        "(그림p.368)\n",
        "\n",
        "은닉층에선 시그모이드, 출력층에선 소프트맥스 사용\n",
        "- 소프트맥스는 확률을 출력하는 함수이므로 중간 밀집층에서 쓸 필요가 x\n",
        "\n",
        "이 그림이 주어지면 모델을 설계할수 있어야함\n",
        "\n",
        "**은닉층**\n",
        "\n",
        "\n",
        "**밀집층**\n",
        "\n",
        "\n",
        "**은닉층에 활성화 함수를 쓰는 이유?**\n",
        "\n",
        "(p.369)\n",
        "\n",
        "활성화 함수 : 밀집층이 하나로 합쳐지지 않도록 방지함"
      ],
      "metadata": {
        "id": "93E__cnEO9Lq"
      }
    },
    {
      "cell_type": "code",
      "source": [
        "dense1 = keras.layers.Dense(100, activation='sigmoid', input_shape=(784,))\n",
        "dense2 = keras.layers.Dense(10, activation='softmax')"
      ],
      "metadata": {
        "id": "0X0r_An--0q7"
      },
      "execution_count": null,
      "outputs": []
    },
    {
      "cell_type": "markdown",
      "source": [
        "##심층 신경망 만들기"
      ],
      "metadata": {
        "id": "VanbHWw2OTKo"
      }
    },
    {
      "cell_type": "code",
      "source": [
        "model = keras.Sequential([dense1, dense2])\n",
        "\n",
        "model.summary()"
      ],
      "metadata": {
        "colab": {
          "base_uri": "https://localhost:8080/"
        },
        "id": "1CqVu39GQ8Lq",
        "outputId": "991b64ae-0874-4cc6-a418-2eba14a3625d"
      },
      "execution_count": null,
      "outputs": [
        {
          "output_type": "stream",
          "name": "stdout",
          "text": [
            "Model: \"sequential\"\n",
            "_________________________________________________________________\n",
            " Layer (type)                Output Shape              Param #   \n",
            "=================================================================\n",
            " dense (Dense)               (None, 100)               78500     \n",
            "                                                                 \n",
            " dense_1 (Dense)             (None, 10)                1010      \n",
            "                                                                 \n",
            "=================================================================\n",
            "Total params: 79510 (310.59 KB)\n",
            "Trainable params: 79510 (310.59 KB)\n",
            "Non-trainable params: 0 (0.00 Byte)\n",
            "_________________________________________________________________\n"
          ]
        }
      ]
    },
    {
      "cell_type": "markdown",
      "source": [
        "=> Model: \"sequential\" <- 모델 이름\n",
        "\n",
        "층마다 이름, 클래스, 출력 크기, 모델 파라미터 개수 출력\n",
        "\n",
        "---\n",
        "\n",
        "Layer(type) : 레이어의 이름, (타입)\n",
        "- 층을 만들 때 name 매개변수로 이름 지정 가능, 미지정시 자동으로 dense라고 이름이 붙여짐\n",
        "\n",
        "Output Shape : (샘플 개수, 출력값)\n",
        "- None : 현재 샘플 개수가 정의되어있지 않음\n",
        "- (784,)은 한 샘플의 크기(샘플의 수x)\n",
        "\n",
        "Param : 파라미터 수\n",
        "- 각각의 노드에 연결된 간선의 수\n",
        "\n",
        "\n",
        "\n",
        "---\n",
        "\n",
        "fit()메서드에 훈련 데이터 주입하면 이 데이터를 잘게 나누어 여러번에 걸쳐 경사 하강법 단계 수행\n",
        "\n",
        "즉, 미니배치 경사 하강법 사용\n",
        "\n",
        "케라스의 기본 미니배치 크기는 32이며, batch_size 매개변수로 바꿀 수 있음\n",
        "\n",
        "따라서 샘플 개수를 고정하지 않고 어떤 배치 크기에도 유연하게 대응할 수 있도록 None 설정\n"
      ],
      "metadata": {
        "id": "3tRxxK7ZRXiv"
      }
    },
    {
      "cell_type": "markdown",
      "source": [
        "## 층을 추가하는 다른 방법"
      ],
      "metadata": {
        "id": "As2LQiuwRESZ"
      }
    },
    {
      "cell_type": "markdown",
      "source": [
        "위에서는 Dense 클래스의 객체 dense1, dense2를 만들어 Sequential 클래스에 전달함\n",
        "\n",
        "=> 이 객체를 따로 저장하여 쓸 일이 없기 때문에  다음처럼 Sequential 클래스의 생성자 안에서 바로 Dense클래스의 객체를 만드는 경우가 많음\n",
        "\n"
      ],
      "metadata": {
        "id": "x2qLHp14TWs6"
      }
    },
    {
      "cell_type": "code",
      "source": [
        "model = keras.Sequential([\n",
        "    keras.layers.Dense(100, activation='sigmoid', input_shape=(784,), name='hidden'),\n",
        "    keras.layers.Dense(10, activation='softmax', name='output')\n",
        "], name='패션 MNIST 모델')\n",
        "\n",
        "model.summary()"
      ],
      "metadata": {
        "colab": {
          "base_uri": "https://localhost:8080/"
        },
        "id": "wrfgawgYRFiv",
        "outputId": "515030d8-83ab-44a0-fe21-ebf82304034c"
      },
      "execution_count": null,
      "outputs": [
        {
          "output_type": "stream",
          "name": "stdout",
          "text": [
            "Model: \"패션 MNIST 모델\"\n",
            "_________________________________________________________________\n",
            " Layer (type)                Output Shape              Param #   \n",
            "=================================================================\n",
            " hidden (Dense)              (None, 100)               78500     \n",
            "                                                                 \n",
            " output (Dense)              (None, 10)                1010      \n",
            "                                                                 \n",
            "=================================================================\n",
            "Total params: 79510 (310.59 KB)\n",
            "Trainable params: 79510 (310.59 KB)\n",
            "Non-trainable params: 0 (0.00 Byte)\n",
            "_________________________________________________________________\n"
          ]
        }
      ]
    },
    {
      "cell_type": "markdown",
      "source": [
        "=> 하지만 이 방법은 Sequential 클래스 생성자가 너무 길어지므로 모델의 add()메서드 사용하는 방법이 가장 많이 사용"
      ],
      "metadata": {
        "id": "kfFakCxMT7A1"
      }
    },
    {
      "cell_type": "code",
      "source": [
        "model = keras.Sequential()\n",
        "model.add(keras.layers.Dense(100, activation='sigmoid', input_shape=(784,)))\n",
        "model.add(keras.layers.Dense(10, activation='softmax'))\n",
        "\n",
        "model.summary()"
      ],
      "metadata": {
        "colab": {
          "base_uri": "https://localhost:8080/"
        },
        "id": "cIUoZpMCTo8E",
        "outputId": "da996707-f131-42e4-d9ad-32a7a6f10f23"
      },
      "execution_count": null,
      "outputs": [
        {
          "output_type": "stream",
          "name": "stdout",
          "text": [
            "Model: \"sequential_2\"\n",
            "_________________________________________________________________\n",
            " Layer (type)                Output Shape              Param #   \n",
            "=================================================================\n",
            " dense_4 (Dense)             (None, 100)               78500     \n",
            "                                                                 \n",
            " dense_5 (Dense)             (None, 10)                1010      \n",
            "                                                                 \n",
            "=================================================================\n",
            "Total params: 79510 (310.59 KB)\n",
            "Trainable params: 79510 (310.59 KB)\n",
            "Non-trainable params: 0 (0.00 Byte)\n",
            "_________________________________________________________________\n"
          ]
        }
      ]
    },
    {
      "cell_type": "markdown",
      "source": [
        "=> 결과는 동일함"
      ],
      "metadata": {
        "id": "QGh9151WUGdx"
      }
    },
    {
      "cell_type": "code",
      "source": [
        "model.compile(loss='sparse_categorical_crossentropy', metrics='accuracy')\n",
        "\n",
        "model.fit(train_scaled, train_target, epochs=5)"
      ],
      "metadata": {
        "colab": {
          "base_uri": "https://localhost:8080/"
        },
        "id": "v95axU9mTq3t",
        "outputId": "642eba8a-a500-4219-e525-d59b04ec9793"
      },
      "execution_count": null,
      "outputs": [
        {
          "output_type": "stream",
          "name": "stdout",
          "text": [
            "Epoch 1/5\n",
            "1500/1500 [==============================] - 5s 3ms/step - loss: 0.5683 - accuracy: 0.8068\n",
            "Epoch 2/5\n",
            "1500/1500 [==============================] - 5s 3ms/step - loss: 0.4115 - accuracy: 0.8501\n",
            "Epoch 3/5\n",
            "1500/1500 [==============================] - 6s 4ms/step - loss: 0.3773 - accuracy: 0.8637\n",
            "Epoch 4/5\n",
            "1500/1500 [==============================] - 4s 3ms/step - loss: 0.3529 - accuracy: 0.8728\n",
            "Epoch 5/5\n",
            "1500/1500 [==============================] - 4s 3ms/step - loss: 0.3345 - accuracy: 0.8784\n"
          ]
        },
        {
          "output_type": "execute_result",
          "data": {
            "text/plain": [
              "<keras.src.callbacks.History at 0x7ef3065b8d00>"
            ]
          },
          "metadata": {},
          "execution_count": 12
        }
      ]
    },
    {
      "cell_type": "markdown",
      "source": [
        "=> 추가된 층이 성능을 향상시킴"
      ],
      "metadata": {
        "id": "jnIwEIm8UKn0"
      }
    },
    {
      "cell_type": "markdown",
      "source": [
        "##렐루 활성화 함수"
      ],
      "metadata": {
        "id": "xS7vnqIrTtM2"
      }
    },
    {
      "cell_type": "markdown",
      "source": [
        "**렐루(reLU)**\n",
        "- 입력이 양수일 경우 마치 활성화 함수가 없는것처럼 그냥 입력을 통과시키고, 음수일 경우에는 0으로 만듬\n",
        "- max(0,z)로 쓸 수도 있음\n",
        "  - z가 양수면 z 출력, 음수면 0 출력\n",
        "- 심층 신경망에서 뛰어남\n",
        "- 이미지출력엔 렐루함수가 좋음\n",
        "\n",
        "**Flatten**\n",
        "- 배치 차원을 제외하고 나머지 입력 차원을 모두 일렬로 펼치는 역할\n",
        "- 가중치나 절편 x\n",
        "- 입력층 바로 다음에 추가\n",
        "- 층이라고는 부르지만, 학습하는 층이 아니므로 층 개수로 세지 않음\n",
        "- 입력값의 차원을 짐작 가능\n",
        "\n",
        "\n",
        "=> 어떻게 쓰는지, 왜 쓰는지, 등등 알아놓으면 됩니다"
      ],
      "metadata": {
        "id": "01shen7lXxiv"
      }
    },
    {
      "cell_type": "code",
      "source": [
        "model = keras.Sequential()\n",
        "model.add(keras.layers.Flatten(input_shape=(28, 28)))\n",
        "model.add(keras.layers.Dense(100, activation='relu'))\n",
        "model.add(keras.layers.Dense(10, activation='softmax'))\n",
        "\n",
        "model.summary()"
      ],
      "metadata": {
        "colab": {
          "base_uri": "https://localhost:8080/"
        },
        "id": "iZ4h-mBLTpWj",
        "outputId": "77dd354b-af25-4d66-d0d5-8490c73f9325"
      },
      "execution_count": null,
      "outputs": [
        {
          "output_type": "stream",
          "name": "stdout",
          "text": [
            "Model: \"sequential_4\"\n",
            "_________________________________________________________________\n",
            " Layer (type)                Output Shape              Param #   \n",
            "=================================================================\n",
            " flatten_1 (Flatten)         (None, 784)               0         \n",
            "                                                                 \n",
            " dense_8 (Dense)             (None, 100)               78500     \n",
            "                                                                 \n",
            " dense_9 (Dense)             (None, 10)                1010      \n",
            "                                                                 \n",
            "=================================================================\n",
            "Total params: 79510 (310.59 KB)\n",
            "Trainable params: 79510 (310.59 KB)\n",
            "Non-trainable params: 0 (0.00 Byte)\n",
            "_________________________________________________________________\n"
          ]
        }
      ]
    },
    {
      "cell_type": "code",
      "source": [
        "(train_input, train_target), (test_input, test_target) = keras.datasets.fashion_mnist.load_data()\n",
        "\n",
        "train_scaled = train_input / 255.0\n",
        "\n",
        "train_scaled, val_scaled, train_target, val_target = train_test_split(\n",
        "    train_scaled, train_target, test_size=0.2, random_state=42)"
      ],
      "metadata": {
        "id": "99DOp4tOTvFy"
      },
      "execution_count": null,
      "outputs": []
    },
    {
      "cell_type": "code",
      "source": [
        "model.compile(loss='sparse_categorical_crossentropy', metrics='accuracy')\n",
        "\n",
        "model.fit(train_scaled, train_target, epochs=5)"
      ],
      "metadata": {
        "colab": {
          "base_uri": "https://localhost:8080/"
        },
        "id": "qx77EogeZEFY",
        "outputId": "31002274-57d2-43ea-e9bc-19469846a02e"
      },
      "execution_count": null,
      "outputs": [
        {
          "output_type": "stream",
          "name": "stdout",
          "text": [
            "Epoch 1/5\n",
            "1500/1500 [==============================] - 5s 2ms/step - loss: 0.5371 - accuracy: 0.8098\n",
            "Epoch 2/5\n",
            "1500/1500 [==============================] - 4s 3ms/step - loss: 0.3961 - accuracy: 0.8569\n",
            "Epoch 3/5\n",
            "1500/1500 [==============================] - 4s 3ms/step - loss: 0.3564 - accuracy: 0.8708\n",
            "Epoch 4/5\n",
            "1500/1500 [==============================] - 4s 2ms/step - loss: 0.3329 - accuracy: 0.8803\n",
            "Epoch 5/5\n",
            "1500/1500 [==============================] - 3s 2ms/step - loss: 0.3165 - accuracy: 0.8859\n"
          ]
        },
        {
          "output_type": "execute_result",
          "data": {
            "text/plain": [
              "<keras.src.callbacks.History at 0x7ef304ad8460>"
            ]
          },
          "metadata": {},
          "execution_count": 16
        }
      ]
    },
    {
      "cell_type": "code",
      "source": [
        "model.evaluate(val_scaled, val_target)"
      ],
      "metadata": {
        "colab": {
          "base_uri": "https://localhost:8080/"
        },
        "id": "WAxrFBtqZFNR",
        "outputId": "b66ff896-fc39-45af-a7b0-44307a79d801"
      },
      "execution_count": null,
      "outputs": [
        {
          "output_type": "stream",
          "name": "stdout",
          "text": [
            "375/375 [==============================] - 1s 3ms/step - loss: 0.3860 - accuracy: 0.8645\n"
          ]
        },
        {
          "output_type": "execute_result",
          "data": {
            "text/plain": [
              "[0.3860018849372864, 0.8644999861717224]"
            ]
          },
          "metadata": {},
          "execution_count": 17
        }
      ]
    },
    {
      "cell_type": "markdown",
      "source": [
        "=> 이전보다 성능 향상"
      ],
      "metadata": {
        "id": "uXQsQOUvZgpn"
      }
    },
    {
      "cell_type": "markdown",
      "source": [
        "##옵티마이저"
      ],
      "metadata": {
        "id": "aB_QAIHrb8-j"
      }
    },
    {
      "cell_type": "markdown",
      "source": [
        "**옵티마이저(optimizer)**\n",
        "\n",
        "- 케라스가 제공하는 다양한 종류의 경사하강법 알고리즘\n",
        "- 신경망의 가중치와 절편을 학습하기 위한 알고리즘 또는 방법\n",
        "- 사용할 경사 하강법 알고리즘과 그 파라미터를 지정하는 매개변수\n",
        "\n",
        "**모멘텀**\n",
        "- 새로운 가중치와 절편을 계산할 때, 과거의 가중치와 절편의 변화량을 어느정도 반영할 것인지 결정함\n",
        "- 즉, 한 번에 이동하는 가중치와 절편의 크기에 변화를 줌\n",
        "\n",
        "**모멘텀 최적화** => 종류는 외울건 없고 그냥 알아보면 됨\n",
        "\n",
        "(p.382)\n",
        "- 모멘텀 기본값은 0인데, 이보다 큰 값으로 지정하면 마치 이전의\n",
        "- 적응적 학습률\n",
        "\n",
        "- 네스테로프 모멘텀 최적화 : 모멘텀\n",
        "- adagrad : 그래디언트 제곱을 누적하여 학습률을 나눔\n",
        "- RMSprop : 디폴트 경사하강법 방법\n",
        "- Adam : 모멘텀 최적화 + RMSprop"
      ],
      "metadata": {
        "id": "HZ3GbmfIZiFr"
      }
    },
    {
      "cell_type": "code",
      "source": [
        "# SGD 옵티마이저를 사용하려면 compile()메서드의 optimizer 매개변수를 'sgd'로 지정\n",
        "model.compile(optimizer='sgd', loss='sparse_categorical_crossentropy', metrics='accuracy')"
      ],
      "metadata": {
        "id": "jQvPMAOab-O0"
      },
      "execution_count": null,
      "outputs": []
    },
    {
      "cell_type": "code",
      "source": [
        "# 위 코드에서 사용한 'sgd' 문자열의 클래스 구현값\n",
        "sgd = keras.optimizers.SGD()\n",
        "model.compile(optimizer=sgd, loss='sparse_categorical_crossentropy', metrics='accuracy')"
      ],
      "metadata": {
        "id": "H97RVsGPb_he"
      },
      "execution_count": null,
      "outputs": []
    },
    {
      "cell_type": "code",
      "source": [
        "# SGD클래스의 학습률 값을 0.1로 변경(기본값 0.01)\n",
        "sgd = keras.optimizers.SGD(learning_rate=0.1)"
      ],
      "metadata": {
        "id": "jdpFPbRKcBPR"
      },
      "execution_count": null,
      "outputs": []
    },
    {
      "cell_type": "code",
      "source": [
        "# 네스테로프 모멘텀 최적화\n",
        "sgd = keras.optimizers.SGD(momentum=0.9, nesterov=True)"
      ],
      "metadata": {
        "id": "J_V8tCvDcGzZ"
      },
      "execution_count": null,
      "outputs": []
    },
    {
      "cell_type": "code",
      "source": [
        "# Adagrad 사용\n",
        "adagrad = keras.optimizers.Adagrad()\n",
        "model.compile(optimizer=adagrad, loss='sparse_categorical_crossentropy', metrics='accuracy')"
      ],
      "metadata": {
        "id": "ukEtq6GYcHv-"
      },
      "execution_count": null,
      "outputs": []
    },
    {
      "cell_type": "code",
      "source": [
        "# RMSprop 사용\n",
        "rmsprop = keras.optimizers.RMSprop()\n",
        "model.compile(optimizer=rmsprop, loss='sparse_categorical_crossentropy', metrics='accuracy')"
      ],
      "metadata": {
        "id": "s-RO-BNIcImA"
      },
      "execution_count": null,
      "outputs": []
    },
    {
      "cell_type": "code",
      "source": [
        "# 커스텀 adam 사용\n",
        "# adam = keras.optimizers.Adam(learning_rate=0.0005, beta_1=0.8, beta_2=0.9)\n",
        "\n",
        "# 기본값으로 adam 옵티마이저 사용\n",
        "model = keras.Sequential()\n",
        "model.add(keras.layers.Flatten(input_shape=(28, 28)))\n",
        "model.add(keras.layers.Dense(100, activation='relu'))\n",
        "model.add(keras.layers.Dense(10, activation='softmax'))\n",
        "\n",
        "model.compile(optimizer='adam', loss='sparse_categorical_crossentropy', metrics='accuracy')\n",
        "\n",
        "model.fit(train_scaled, train_target, epochs=5)"
      ],
      "metadata": {
        "colab": {
          "base_uri": "https://localhost:8080/"
        },
        "id": "7qpdhdY3cK84",
        "outputId": "bc78856d-b48a-4fbd-f6e7-b23abd0ad710"
      },
      "execution_count": null,
      "outputs": [
        {
          "output_type": "stream",
          "name": "stdout",
          "text": [
            "Epoch 1/5\n",
            "1500/1500 [==============================] - 6s 3ms/step - loss: 0.5319 - accuracy: 0.8134\n",
            "Epoch 2/5\n",
            "1500/1500 [==============================] - 4s 3ms/step - loss: 0.4013 - accuracy: 0.8565\n",
            "Epoch 3/5\n",
            "1500/1500 [==============================] - 5s 3ms/step - loss: 0.3590 - accuracy: 0.8697\n",
            "Epoch 4/5\n",
            "1500/1500 [==============================] - 6s 4ms/step - loss: 0.3328 - accuracy: 0.8796\n",
            "Epoch 5/5\n",
            "1500/1500 [==============================] - 4s 3ms/step - loss: 0.3117 - accuracy: 0.8847\n"
          ]
        },
        {
          "output_type": "execute_result",
          "data": {
            "text/plain": [
              "<keras.src.callbacks.History at 0x7ef309674c40>"
            ]
          },
          "metadata": {},
          "execution_count": 24
        }
      ]
    },
    {
      "cell_type": "code",
      "source": [
        "model.evaluate(val_scaled, val_target)"
      ],
      "metadata": {
        "colab": {
          "base_uri": "https://localhost:8080/"
        },
        "id": "qP5pFf8ScN2q",
        "outputId": "47e1a61c-eaec-4797-9412-0e7b3c53feab"
      },
      "execution_count": null,
      "outputs": [
        {
          "output_type": "stream",
          "name": "stdout",
          "text": [
            "375/375 [==============================] - 1s 2ms/step - loss: 0.3488 - accuracy: 0.8714\n"
          ]
        },
        {
          "output_type": "execute_result",
          "data": {
            "text/plain": [
              "[0.3488176167011261, 0.8714166879653931]"
            ]
          },
          "metadata": {},
          "execution_count": 25
        }
      ]
    },
    {
      "cell_type": "markdown",
      "source": [
        "**adam의 설정값을 직접 지정하여 옵티마이저로 사용하는 방법**\n",
        "\n",
        "- 변수명이 adam인 객체 생성\n",
        "  - 설정값을 직접 지정해줌\n",
        "- compile()에서 optimizer=adam 으로 문자열이 아닌 변수 adam을 사용하기\n",
        "  - (원래 기본값으로는 optimizer='adam'같은 문자열 형식으로 사용함)\n",
        "\n",
        "\n",
        "(코드 사진 참고)\n",
        "\n",
        "★★★시험에 adam 이렇게 설정하라고 하면 코드 쓼줄 알아야됨"
      ],
      "metadata": {
        "id": "sMK4tQpmccxD"
      }
    },
    {
      "cell_type": "code",
      "source": [
        "# 강의 추가 코드\n",
        "# adam의 설정값을 지정하여 옵티마이저 사용\n",
        "adam = keras.optimizers.Adam(learning_rate=0.0005, beta_1=0.8, beta_2=0.9) #adam의 설정값을 직접 지정\n",
        "\n",
        "model = keras.Sequential()\n",
        "model.add(keras.layers.Flatten(input_shape=(28, 28)))\n",
        "model.add(keras.layers.Dense(100, activation='relu'))\n",
        "model.add(keras.layers.Dense(10, activation='softmax'))\n",
        "\n",
        "model.compile(optimizer=adam, loss='sparse_categorical_crossentropy', metrics='accuracy') #optimizer 매개변수를 변수명 adam으로 설정\n",
        "\n",
        "model.fit(train_scaled, train_target, epochs=5)"
      ],
      "metadata": {
        "colab": {
          "base_uri": "https://localhost:8080/"
        },
        "id": "Q0zazMwYctJh",
        "outputId": "38d601dd-0fbd-493a-817d-991f95525b84"
      },
      "execution_count": null,
      "outputs": [
        {
          "output_type": "stream",
          "name": "stdout",
          "text": [
            "Epoch 1/5\n",
            "1500/1500 [==============================] - 5s 3ms/step - loss: 0.5512 - accuracy: 0.8122\n",
            "Epoch 2/5\n",
            "1500/1500 [==============================] - 4s 3ms/step - loss: 0.4079 - accuracy: 0.8547\n",
            "Epoch 3/5\n",
            "1500/1500 [==============================] - 6s 4ms/step - loss: 0.3696 - accuracy: 0.8673\n",
            "Epoch 4/5\n",
            "1500/1500 [==============================] - 7s 5ms/step - loss: 0.3438 - accuracy: 0.8778\n",
            "Epoch 5/5\n",
            "1500/1500 [==============================] - 6s 4ms/step - loss: 0.3243 - accuracy: 0.8826\n"
          ]
        },
        {
          "output_type": "execute_result",
          "data": {
            "text/plain": [
              "<keras.src.callbacks.History at 0x7ef30dd3aa70>"
            ]
          },
          "metadata": {},
          "execution_count": 26
        }
      ]
    },
    {
      "cell_type": "code",
      "source": [
        "model.evaluate(val_scaled, val_target)"
      ],
      "metadata": {
        "colab": {
          "base_uri": "https://localhost:8080/"
        },
        "id": "XuiI4OoWdm47",
        "outputId": "7ac27832-f9bc-411b-d5c0-1900d4e94e9d"
      },
      "execution_count": null,
      "outputs": [
        {
          "output_type": "stream",
          "name": "stdout",
          "text": [
            "375/375 [==============================] - 1s 2ms/step - loss: 0.3539 - accuracy: 0.8756\n"
          ]
        },
        {
          "output_type": "execute_result",
          "data": {
            "text/plain": [
              "[0.35390982031822205, 0.8755833506584167]"
            ]
          },
          "metadata": {},
          "execution_count": 27
        }
      ]
    }
  ]
}