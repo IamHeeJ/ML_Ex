{
  "nbformat": 4,
  "nbformat_minor": 0,
  "metadata": {
    "colab": {
      "provenance": [],
      "authorship_tag": "ABX9TyMDzAJtwDlHRhxIiOC4tI1u",
      "include_colab_link": true
    },
    "kernelspec": {
      "name": "python3",
      "display_name": "Python 3"
    },
    "language_info": {
      "name": "python"
    }
  },
  "cells": [
    {
      "cell_type": "markdown",
      "metadata": {
        "id": "view-in-github",
        "colab_type": "text"
      },
      "source": [
        "<a href=\"https://colab.research.google.com/github/IamHeeJ/ML_Ex/blob/main/8_1.ipynb\" target=\"_parent\"><img src=\"https://colab.research.google.com/assets/colab-badge.svg\" alt=\"Open In Colab\"/></a>"
      ]
    },
    {
      "cell_type": "markdown",
      "source": [
        "#8-1. 합성곱 신경망의 구성 요소"
      ],
      "metadata": {
        "id": "KuCAtToWBJSG"
      }
    },
    {
      "cell_type": "markdown",
      "source": [
        "##합성곱"
      ],
      "metadata": {
        "id": "z259rs5qF3-F"
      }
    },
    {
      "cell_type": "markdown",
      "source": [
        "**밀집층**\n",
        "- 뉴런마다 입력 개수만큼의 가중치가 있음\n",
        "- 즉, 모든 입력에 가중치를 곱함\n",
        "- 뉴런마다 가중치가 다름\n",
        "\n",
        "**합성곱 신경망(convolution neural network)**\n",
        "- 합성곱은 밀집츠의 계산과 달리 입력 데이터의 **일부** 뉴런에만 가중치를 곱함\n",
        "  - ex) 입력값이 10개고 뉴런이 가중치 3개를 갖고있다면 뉴론 수행이 1,2,3번째 입력-> 2,3,4번째입력-> 3,4,5... 이렇게 반복함\n",
        "- 필터의 요소마다 가중치가 다름\n",
        "- 그림p.425 => 반복적으로 찍음\n",
        "\n",
        "**합성곱 신경망의 장점**\n",
        "- 1차원 뿐만 아니라 2차원 입력에서도 사용 가능 (필터도 2차원 배열이어야 함)\n",
        "\n",
        "**특성 맵**\n",
        "- 합성곱 계산을 통해 얻은 출력  \n",
        "\n",
        "**밀집층 vs 합성곱**\n",
        "- 입력치 x 가중치 + 절편(b)\n",
        "- 밀집층과의 차이 :\n",
        "  1. 2차원 형태 유지\n",
        "  2. 입력보다 훨씬 작은 크기의 커널 사용\n",
        "=> 2차원 구조를 그대로 사용하기 때문에 합성곱 신경망이 이미지 처리 분야에서 강함\n"
      ],
      "metadata": {
        "id": "fGxE_haVGQ2l"
      }
    },
    {
      "cell_type": "markdown",
      "source": [
        "##케라스 합성곱 층"
      ],
      "metadata": {
        "id": "9Xb3ikZZJKxL"
      }
    },
    {
      "cell_type": "markdown",
      "source": [
        "**케라스 합성곱 층**\n",
        "\n",
        "keras.layers 패키지 아래의 클래스로 구현됨\n",
        "\n",
        "합성곱은 Conv2D 클래스로 구현됨"
      ],
      "metadata": {
        "id": "CPKdk62ZIk2g"
      }
    },
    {
      "cell_type": "code",
      "source": [
        "from tensorflow import keras\n",
        "keras.layers.Conv2D(10, kernel_size(3,3), activation='relu')"
      ],
      "metadata": {
        "id": "ASgEHcywI5aw"
      },
      "execution_count": null,
      "outputs": []
    },
    {
      "cell_type": "markdown",
      "source": [
        "**합성곱 신경망의 정의**\n",
        "- 1개 이상의 합성곱 층을 쓴 인공 신경망\n",
        "- 클래스에 대한 확률을 계산하려면 마지막 층에 클래스 개수만큼 뉴런을 가진 밀집층을 두는 것이 일반적\n",
        "\n",
        "**패딩(padding)**\n",
        "- 커널 크기를 고정하면서 입력 출력 크기를 동일하게 만들기 위해 입력 배열 주위를 가상의 원소로 채우는 것\n",
        "- 실제 입력값은 아니므로 0으로 채워지며, 계산에 영향을 주지 않음\n",
        "\n",
        "**세임 패딩(same padding)**\n",
        "- 입력과 특성 맵의 크기를 동일하게 만들기 위해 입력 주위에 0으로 패딩하는것\n",
        "- 합성곱 신경망에서 많이 사용됨\n",
        "\n",
        "**밸리드 패딩(valid padding)**\n",
        "- 패딩 없이 순수 입력 배열에서만 특성 맵을 만드는 것\n",
        "- 특성 맵의 크기가 줄어듬\n",
        "\n",
        "\n",
        "**합성곱에서 패딩을 즐겨 사용하는 이유?**\n",
        "- 패딩이 없다면 모서리값들은 커널 도장에 딱 한번만 쓰이지만 다른 원소들은 2번 이상 커널과 계산됨\n",
        "- 즉, 모서리에 있는 중요한 정보가 특성 맵으로 잘 전달되지 않을 가능성이 높고, 가운데 있는 정보는 두드러지게 표현될 것임\n",
        "- ex) (그림 p.432) 패딩을 하지 않을 경우, 중앙과 모서리 픽셀이 합성곱에 참여하는 비율이 (4:1)로 크게 차이가 남. 반면, 패딩 한다면 (9:4)로 차이가 감소함\n"
      ],
      "metadata": {
        "id": "Ne4Wsji2JDhm"
      }
    },
    {
      "cell_type": "markdown",
      "source": [
        "**스트라이드(stride)**\n",
        "- 합성곱 연산에서 커널이 이동하는 칸 수\n",
        "- 기본값=1, 좌우 상하로 한칸씩 이동함\n",
        "- 패딩을 사용하더라도 특성 맵의 크기가 줄어든다\n"
      ],
      "metadata": {
        "id": "6gZHVVsCKItB"
      }
    },
    {
      "cell_type": "markdown",
      "source": [
        "**풀링(pooling)**\n",
        "- 합성곱 층에서 만든 특성 맵의 가로세로 크기를 줄이는 역할\n",
        "- 특성 맵의 개수는 줄이지 않음\n",
        "\n",
        "**최대 풀링(max pooling)**\n",
        "- 필터가 적용된 영역에서 가장 큰 값을 골라 계산\n",
        "\n",
        "**평균 풀링(average pooling)**\n",
        "- 필터가 적용된 영역의 평균값을 계산\n",
        "\n",
        "**풀링을 사용하는 이유?**\n",
        "- 합성곱에서 stride를 크게 하여 특성 맵을 줄이는 것보다, 풀링 층에서 크기를 줄이는 것이 경험적으로 더 나은 성능을 내기 때문\n",
        "- 합성곱 신경망은 합성곱 층에서 특성 맵을 생성하고 풀링에서 크기를 줄이는 구조가 쌍을 이룸\n",
        "- 합성곱 층과 뚜렷이 구분되기 때문에 **풀링 층**이라 부름\n",
        "- 대부분 최대 풀링을 많이 사용함"
      ],
      "metadata": {
        "id": "RXWBS_nFKYEE"
      }
    },
    {
      "cell_type": "markdown",
      "source": [
        "**합성곱 신경망의 전체 구조**\n",
        "- 그림 p.437\n",
        "- 시험에 나올수도 있다는거?\n",
        "\n"
      ],
      "metadata": {
        "id": "4ImQnBxtLSH9"
      }
    },
    {
      "cell_type": "markdown",
      "source": [
        "**컬러 이미지를 사용한 합성곱**\n",
        "- 교재 p.438~440\n",
        "- 컬러 이미지는 RGB 채널로 구성되어 있기 때문에 **너비x높이x깊이3**인 3차원 배열로 구성\n",
        "- 입력이나 필터의 차원 개수와 상관없이 합성곱 출력은 항상 하나의 값\n",
        "- 흑백 이미지더라도 (28,28,1)와 같이 깊이 1인 3차원 배열 표현을 권장"
      ],
      "metadata": {
        "id": "58GIF1h_L2rJ"
      }
    },
    {
      "cell_type": "markdown",
      "source": [
        "**이미지 분석을 위한 합성곱 신경망 모델 이용**\n",
        "\n",
        "합성곱 신경망에서 필터는 이미지에 있는 어떤 특징을 찾는다고 생각할 수 있음.\n",
        "\n",
        "처음에는 간단한 기본적인 특징(직선, 곡선 등)을 찾고 층이 깊어질수록 다양하고 구체적인 특징을 감지할 수 있도록 필터 개수 늘림\n",
        "\n",
        "또한 어떤 특징이 이미지의 어느 위치에 놓이더라도 쉽게 감지할 수 있도록 너비와 높이 차원을 점점 줄여나감\n",
        "\n",
        "\n",
        "- 다음 절에서 계속"
      ],
      "metadata": {
        "id": "5jfBwro6NJrh"
      }
    }
  ]
}