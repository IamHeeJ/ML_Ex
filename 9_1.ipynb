{
  "nbformat": 4,
  "nbformat_minor": 0,
  "metadata": {
    "colab": {
      "provenance": [],
      "authorship_tag": "ABX9TyPHEWUvIGDOv69MxuXjq2Hf",
      "include_colab_link": true
    },
    "kernelspec": {
      "name": "python3",
      "display_name": "Python 3"
    },
    "language_info": {
      "name": "python"
    }
  },
  "cells": [
    {
      "cell_type": "markdown",
      "metadata": {
        "id": "view-in-github",
        "colab_type": "text"
      },
      "source": [
        "<a href=\"https://colab.research.google.com/github/IamHeeJ/ML_Ex/blob/main/9_1.ipynb\" target=\"_parent\"><img src=\"https://colab.research.google.com/assets/colab-badge.svg\" alt=\"Open In Colab\"/></a>"
      ]
    },
    {
      "cell_type": "markdown",
      "source": [
        "#9-1. 순차 데이터와 순환 신경망"
      ],
      "metadata": {
        "id": "xP_F6uNFvJGW"
      }
    },
    {
      "cell_type": "markdown",
      "source": [
        "##순차 데이터"
      ],
      "metadata": {
        "id": "2AnLDNQyvOO8"
      }
    },
    {
      "cell_type": "markdown",
      "source": [
        "**순차 데이터(sequential data)**\n",
        "- 텍스트나 시계열 데이터(time series data)와 같이 순서에 의미가 있는 데이터\n",
        "  - ex) I am a boy (o), boy am a I (x)\n",
        "  - 시계열 데이터 : 1일 15Cº, 2일 17Cº...\n",
        "\n",
        "**텍스트 데이터의 순서가 중요한 이유**\n",
        "- ex) \"별로지만 추천해요\"에서 \"추천해요\"가 입력될 때 \"별로지만을 기억하고 있어야 이 글을 무조건 긍정적이지 않다고 판단할 수 있음\n",
        "\n",
        "**피드포워드 신경망(feedforward neural network)**\n",
        "- 입력 데이터의 흐름이 앞으로만 전달되는 신경망\n",
        "- 하나의 샘플(or 배치)을 사용하여 정방향 계산을 수행하고 나면 그 샘플은 버려지고 재사용하지x\n",
        "- ex) 완전 연결 신경망, 합성곱 신경망\n"
      ],
      "metadata": {
        "id": "5DQIWMc1vxCW"
      }
    },
    {
      "cell_type": "markdown",
      "source": [
        "##순환 신경망"
      ],
      "metadata": {
        "id": "2_mNttf_xdCq"
      }
    },
    {
      "cell_type": "markdown",
      "source": [
        "**순환 신경망(recurrent neural network, RNN)**\n",
        "- 일반적인 완전 연결 신경망에 이전 데이터의 처리 흐름을 순환하는 고리 하나만 추가하면 됨\n",
        "\n",
        "**타임스텝(timestep)**\n",
        "- 샘플을 처리하는 한 단계\n",
        "\n",
        "**셀(cell)**\n",
        "- 순환신경망에서의 층\n",
        "\n",
        "**은닉 상태(hidden state)**\n",
        "- 셀의 출력\n",
        "\n",
        "**tanh**\n",
        "- 일반적으로 은닉층의 활성화 함수로 tanh가 많이 사용됨\n",
        "\n",
        "**순환 신경망의 흐름**\n",
        "- 은닉층의 출력을 다음 층으로만 보내지 않고 다음 순서에 다시 재사용하는 순환 구조\n",
        "- 거시적인 구조는 다른 신경망과 같이 입력에 가중치를 곱하고 절편을 더하여 활성화 함수를 거쳐 다음층으로 전달함\n"
      ],
      "metadata": {
        "id": "dPtel3xWxe9p"
      }
    }
  ]
}